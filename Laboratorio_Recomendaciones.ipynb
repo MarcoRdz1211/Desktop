{
  "nbformat": 4,
  "nbformat_minor": 0,
  "metadata": {
    "colab": {
      "name": "Laboratorio Recomendaciones",
      "provenance": [],
      "include_colab_link": true
    },
    "kernelspec": {
      "name": "ir",
      "display_name": "R"
    },
    "language_info": {
      "name": "R"
    }
  },
  "cells": [
    {
      "cell_type": "markdown",
      "metadata": {
        "id": "view-in-github",
        "colab_type": "text"
      },
      "source": [
        "<a href=\"https://colab.research.google.com/github/MarcoRdz1211/Desktop/blob/main/Laboratorio_Recomendaciones.ipynb\" target=\"_parent\"><img src=\"https://colab.research.google.com/assets/colab-badge.svg\" alt=\"Open In Colab\"/></a>"
      ]
    },
    {
      "cell_type": "markdown",
      "metadata": {
        "id": "EsyOIOR8n4j7"
      },
      "source": [
        "\n",
        "**Instalar libreria (puede tardar mucho)**\n",
        "```\n",
        "# This is formatted as code\n",
        "```\n",
        "\n"
      ]
    },
    {
      "cell_type": "code",
      "metadata": {
        "colab": {
          "base_uri": "https://localhost:8080/"
        },
        "id": "zLhutKG6o-jZ",
        "outputId": "6fa5916a-9b01-49df-c4e7-10c0fc04f880"
      },
      "source": [
        "install.packages(\"recommenderlab\")\n"
      ],
      "execution_count": null,
      "outputs": [
        {
          "output_type": "stream",
          "text": [
            "Installing package into ‘/usr/local/lib/R/site-library’\n",
            "(as ‘lib’ is unspecified)\n",
            "\n",
            "also installing the dependencies ‘RcppProgress’, ‘arules’, ‘proxy’, ‘registry’, ‘irlba’, ‘recosystem’\n",
            "\n",
            "\n"
          ],
          "name": "stderr"
        }
      ]
    },
    {
      "cell_type": "markdown",
      "metadata": {
        "id": "mKNBWjono1wi"
      },
      "source": [
        "**Cargar libreria y cargar los datos**"
      ]
    },
    {
      "cell_type": "code",
      "metadata": {
        "id": "vgJKnWl6s740"
      },
      "source": [
        "library(\"recommenderlab\")\n",
        "\n",
        "data(\"MovieLense\")"
      ],
      "execution_count": null,
      "outputs": []
    },
    {
      "cell_type": "markdown",
      "metadata": {
        "id": "8FPQp9Pmp0qI"
      },
      "source": [
        "Mirar a los datos"
      ]
    },
    {
      "cell_type": "code",
      "metadata": {
        "colab": {
          "base_uri": "https://localhost:8080/",
          "height": 35
        },
        "id": "agtBSRjJo7zt",
        "outputId": "010ac454-6efc-4857-bea2-a24877f76de4"
      },
      "source": [
        "MovieLense"
      ],
      "execution_count": null,
      "outputs": [
        {
          "output_type": "display_data",
          "data": {
            "text/plain": [
              "943 x 1664 rating matrix of class ‘realRatingMatrix’ with 99392 ratings."
            ]
          },
          "metadata": {
            "tags": []
          }
        }
      ]
    },
    {
      "cell_type": "code",
      "metadata": {
        "id": "HyrkmgBYpA_S",
        "colab": {
          "base_uri": "https://localhost:8080/",
          "height": 35
        },
        "outputId": "d7437db6-d4fb-488d-f952-98c92d6fb1ae"
      },
      "source": [
        "head(MovieLense)"
      ],
      "execution_count": null,
      "outputs": [
        {
          "output_type": "display_data",
          "data": {
            "text/plain": [
              "6 x 1664 rating matrix of class ‘realRatingMatrix’ with 789 ratings."
            ]
          },
          "metadata": {
            "tags": []
          }
        }
      ]
    },
    {
      "cell_type": "code",
      "metadata": {
        "id": "U3p8OYnAp_7y"
      },
      "source": [
        "head(MovieLenseMeta)"
      ],
      "execution_count": null,
      "outputs": []
    },
    {
      "cell_type": "markdown",
      "metadata": {
        "id": "eR7HtxnRqbPt"
      },
      "source": [
        "Para interactuar con los datos, hay muchos métodos:\n"
      ]
    },
    {
      "cell_type": "code",
      "metadata": {
        "id": "HBMF6VGatWRj"
      },
      "source": [
        "a<-rowCounts(MovieLense)"
      ],
      "execution_count": null,
      "outputs": []
    },
    {
      "cell_type": "code",
      "metadata": {
        "id": "8KmumclItfM1"
      },
      "source": [
        "a[1:10]"
      ],
      "execution_count": null,
      "outputs": []
    },
    {
      "cell_type": "code",
      "metadata": {
        "id": "q7yYGT72tn2P"
      },
      "source": [
        "methods(class=class(MovieLense))\n"
      ],
      "execution_count": null,
      "outputs": []
    },
    {
      "cell_type": "code",
      "metadata": {
        "id": "hWbAHNcAtyQo",
        "colab": {
          "base_uri": "https://localhost:8080/",
          "height": 35
        },
        "outputId": "9ec3a100-51a3-4a5d-f61e-43122fa7338e"
      },
      "source": [
        "MovieLense100 <- MovieLense[rowCounts(MovieLense) >100,]\n",
        "MovieLense100"
      ],
      "execution_count": null,
      "outputs": [
        {
          "output_type": "display_data",
          "data": {
            "text/plain": [
              "358 x 1664 rating matrix of class ‘realRatingMatrix’ with 73610 ratings."
            ]
          },
          "metadata": {
            "tags": []
          }
        }
      ]
    },
    {
      "cell_type": "markdown",
      "metadata": {
        "id": "sEus9yahrN-E"
      },
      "source": [
        "**Para trabajar con matriz de calificaciones (no muy eficiente):**"
      ]
    },
    {
      "cell_type": "code",
      "metadata": {
        "id": "s8m-_8_PuUBG"
      },
      "source": [
        "m<-getRatingMatrix(MovieLense100)\n"
      ],
      "execution_count": null,
      "outputs": []
    },
    {
      "cell_type": "code",
      "metadata": {
        "colab": {
          "base_uri": "https://localhost:8080/",
          "height": 35
        },
        "id": "JGUr4mLDvCKh",
        "outputId": "462d0b06-ceb8-4dbb-f96c-74cd917013c0"
      },
      "source": [
        "dim(m)"
      ],
      "execution_count": null,
      "outputs": [
        {
          "output_type": "display_data",
          "data": {
            "text/plain": [
              "[1]  358 1664"
            ],
            "text/latex": "\\begin{enumerate*}\n\\item 358\n\\item 1664\n\\end{enumerate*}\n",
            "text/markdown": "1. 358\n2. 1664\n\n\n",
            "text/html": [
              "<style>\n",
              ".list-inline {list-style: none; margin:0; padding: 0}\n",
              ".list-inline>li {display: inline-block}\n",
              ".list-inline>li:not(:last-child)::after {content: \"\\00b7\"; padding: 0 .5ex}\n",
              "</style>\n",
              "<ol class=list-inline><li>358</li><li>1664</li></ol>\n"
            ]
          },
          "metadata": {
            "tags": []
          }
        }
      ]
    },
    {
      "cell_type": "code",
      "metadata": {
        "colab": {
          "base_uri": "https://localhost:8080/",
          "height": 35
        },
        "id": "Ckj4IHQrvdV_",
        "outputId": "4452b79b-aa0f-4677-b27c-e270b10772a9"
      },
      "source": [
        "m[1,2]"
      ],
      "execution_count": null,
      "outputs": [
        {
          "output_type": "display_data",
          "data": {
            "text/plain": [
              "[1] 3"
            ],
            "text/latex": "3",
            "text/markdown": "3",
            "text/html": [
              "3"
            ]
          },
          "metadata": {
            "tags": []
          }
        }
      ]
    },
    {
      "cell_type": "code",
      "metadata": {
        "id": "oe338lXbvhWe"
      },
      "source": [
        "m[1,]\n"
      ],
      "execution_count": null,
      "outputs": []
    },
    {
      "cell_type": "code",
      "metadata": {
        "id": "kYEriMAzviv5"
      },
      "source": [
        "colnames(m)"
      ],
      "execution_count": null,
      "outputs": []
    },
    {
      "cell_type": "code",
      "metadata": {
        "colab": {
          "base_uri": "https://localhost:8080/",
          "height": 34
        },
        "id": "xN1-3awbv7Nd",
        "outputId": "eb63199f-7b1f-4b9e-9594-4217a1a2537e"
      },
      "source": [
        "m[1,\"War at Home, The (1996)\"]"
      ],
      "execution_count": null,
      "outputs": [
        {
          "output_type": "display_data",
          "data": {
            "text/plain": [
              "[1] 0"
            ],
            "text/latex": "0",
            "text/markdown": "0",
            "text/html": [
              "0"
            ]
          },
          "metadata": {
            "tags": []
          }
        }
      ]
    },
    {
      "cell_type": "code",
      "metadata": {
        "colab": {
          "base_uri": "https://localhost:8080/",
          "height": 33
        },
        "id": "cFdJo08zxgmE",
        "outputId": "239220c9-23c2-452f-af4d-149a91eac746"
      },
      "source": [
        "dim(m)\n"
      ],
      "execution_count": null,
      "outputs": [
        {
          "output_type": "display_data",
          "data": {
            "text/plain": [
              "[1]  358 1664"
            ],
            "text/latex": "\\begin{enumerate*}\n\\item 358\n\\item 1664\n\\end{enumerate*}\n",
            "text/markdown": "1. 358\n2. 1664\n\n\n",
            "text/html": [
              "<style>\n",
              ".list-inline {list-style: none; margin:0; padding: 0}\n",
              ".list-inline>li {display: inline-block}\n",
              ".list-inline>li:not(:last-child)::after {content: \"\\00b7\"; padding: 0 .5ex}\n",
              "</style>\n",
              "<ol class=list-inline><li>358</li><li>1664</li></ol>\n"
            ]
          },
          "metadata": {
            "tags": []
          }
        }
      ]
    },
    {
      "cell_type": "markdown",
      "metadata": {
        "id": "7_CZ-inntQjX"
      },
      "source": [
        "**Visualizar matriz**"
      ]
    },
    {
      "cell_type": "code",
      "metadata": {
        "id": "FxH2PrSFyIjn"
      },
      "source": [
        "image(m)"
      ],
      "execution_count": null,
      "outputs": []
    },
    {
      "cell_type": "code",
      "metadata": {
        "id": "Qync9w4MsieC"
      },
      "source": [
        "m[1,]"
      ],
      "execution_count": null,
      "outputs": []
    },
    {
      "cell_type": "markdown",
      "metadata": {
        "id": "7bAGbOXK4EoB"
      },
      "source": [
        "**Estimar modelo**"
      ]
    },
    {
      "cell_type": "code",
      "metadata": {
        "id": "DDDP0Za6mxpR"
      },
      "source": [
        "train <- MovieLense100[1:50]\n",
        "rec <- Recommender(train, method = \"UBCF\")\n",
        "rec"
      ],
      "execution_count": null,
      "outputs": []
    },
    {
      "cell_type": "code",
      "metadata": {
        "id": "xQyL0TsDmz2Q"
      },
      "source": [
        "pre <- predict(rec, MovieLense100[101], type=\"ratings\",n=100)\n",
        "pre\n",
        "cc<-as(pre, \"matrix\")\n",
        "which.max(cc)\n"
      ],
      "execution_count": null,
      "outputs": []
    },
    {
      "cell_type": "code",
      "metadata": {
        "id": "gKH0AeME1LL5"
      },
      "source": [
        "rec2<-Recommender(train, \"ALS\", param=list(n_factors=20,lambda=0.1))"
      ],
      "execution_count": null,
      "outputs": []
    },
    {
      "cell_type": "code",
      "metadata": {
        "id": "7rpkeQX_2MUH"
      },
      "source": [
        "pre <- predict(rec2, MovieLense100[101], type=\"ratings\",n=100)\n",
        "pre\n",
        "cc<-as(pre, \"matrix\")\n",
        "which.max(cc)"
      ],
      "execution_count": null,
      "outputs": []
    },
    {
      "cell_type": "code",
      "metadata": {
        "id": "wlEZbnnD66Ir"
      },
      "source": [
        ""
      ],
      "execution_count": null,
      "outputs": []
    }
  ]
}